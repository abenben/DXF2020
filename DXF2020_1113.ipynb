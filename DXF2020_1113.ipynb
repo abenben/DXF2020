{
  "nbformat": 4,
  "nbformat_minor": 0,
  "metadata": {
    "kernelspec": {
      "display_name": "Python 3",
      "language": "python",
      "name": "python3"
    },
    "language_info": {
      "codemirror_mode": {
        "name": "ipython",
        "version": 3
      },
      "file_extension": ".py",
      "mimetype": "text/x-python",
      "name": "python",
      "nbconvert_exporter": "python",
      "pygments_lexer": "ipython3",
      "version": "3.7.6"
    },
    "colab": {
      "name": "DXF2020_1113.ipynb",
      "provenance": [],
      "include_colab_link": true
    }
  },
  "cells": [
    {
      "cell_type": "markdown",
      "metadata": {
        "id": "view-in-github",
        "colab_type": "text"
      },
      "source": [
        "<a href=\"https://colab.research.google.com/github/abenben/DXF2020/blob/main/DXF2020_1113.ipynb\" target=\"_parent\"><img src=\"https://colab.research.google.com/assets/colab-badge.svg\" alt=\"Open In Colab\"/></a>"
      ]
    },
    {
      "cell_type": "markdown",
      "metadata": {
        "id": "O_KAKpWbxsRt"
      },
      "source": [
        "## Agenda\n",
        "- 次元削減とクラスタリング（教師なし学習）\n",
        "- 回帰（教師あり、目的変数が連続値）\n",
        "- 分類（教師あり、目的変数が離散値）"
      ]
    },
    {
      "cell_type": "code",
      "metadata": {
        "id": "RbZiZtgXxsRy"
      },
      "source": [
        "# 可視化のための外部モジュールの読み込み\n",
        "import matplotlib.pyplot as plt\n",
        "# ノートブックの中に画を埋め込むための指示\n",
        "%matplotlib inline\n",
        "\n",
        "# データサイエンスによく使うライブラリも読み込んでおく\n",
        "import numpy as np\n",
        "import pandas as pd"
      ],
      "execution_count": null,
      "outputs": []
    },
    {
      "cell_type": "code",
      "metadata": {
        "id": "-N95v2xWxsR4"
      },
      "source": [
        "# 手書き数字サンプルデータの読み込み準備\n",
        "from sklearn.datasets import load_digits"
      ],
      "execution_count": null,
      "outputs": []
    },
    {
      "cell_type": "code",
      "metadata": {
        "id": "nJdVlS-ZxsR7"
      },
      "source": [
        "# 関数を呼び出してサンプルデータを読み込み変数（digits_data）で受け取る\n",
        "# 詳しくは、以下の公式ドキュメントを参照\n",
        "# https://scikit-learn.org/stable/modules/generated/sklearn.datasets.load_digits.html#sklearn.datasets.load_digits\n",
        "digits_data = load_digits()"
      ],
      "execution_count": null,
      "outputs": []
    },
    {
      "cell_type": "code",
      "metadata": {
        "id": "_xTVgt-zxsR_"
      },
      "source": [
        "# 簡単な説明書の表示\n",
        "# （実は間違っている。1797個しがデータが無い）\n",
        "print(digits_data.DESCR)"
      ],
      "execution_count": null,
      "outputs": []
    },
    {
      "cell_type": "code",
      "metadata": {
        "id": "PK_RzzNcxsSF"
      },
      "source": [
        "#試しに1つ表示して見る\n",
        "# 表示するデータのインデックスを指定\n",
        "i = 10 # 0〜1798までで指定できる\n",
        "# 変数で受け取る\n",
        "image = digits_data['images'][i]\n",
        "num = digits_data['target'][i]\n",
        "print(f'ラベルは{num}')\n",
        "# 画像の表示\n",
        "_ = plt.imshow(image, cmap=plt.cm.binary) #またはgray_rでもOK\n",
        "\n",
        "# 試してみよう\n",
        "# iの値を変更してみる\n",
        "# カラーマップを変更してみる\n",
        "# https://matplotlib.org/3.1.0/tutorials/colors/colormaps.html"
      ],
      "execution_count": null,
      "outputs": []
    },
    {
      "cell_type": "code",
      "metadata": {
        "id": "hcck4jmwxsSI"
      },
      "source": [
        "# 1つの画像は8行8列の行列データ\n",
        "digits_data['images'][i]"
      ],
      "execution_count": null,
      "outputs": []
    },
    {
      "cell_type": "code",
      "metadata": {
        "id": "GSC1kaX4xsSL"
      },
      "source": [
        "# ベクトルになっているデータもある\n",
        "digits_data['data'][i]"
      ],
      "execution_count": null,
      "outputs": []
    },
    {
      "cell_type": "code",
      "metadata": {
        "id": "eM_2-zyfxsSO"
      },
      "source": [
        "# 全体をまとめて1つの表型のデータを作る\n",
        "# 通常は行と列に名前を付ける\n",
        "digits_df = pd.DataFrame(digits_data['data'])"
      ],
      "execution_count": null,
      "outputs": []
    },
    {
      "cell_type": "code",
      "metadata": {
        "id": "1x9ZOOzXxsSS"
      },
      "source": [
        "# 1797行、64列のデータ\n",
        "# 1行が1つのサンプル。それぞれの列が説明変数\n",
        "digits_df"
      ],
      "execution_count": null,
      "outputs": []
    },
    {
      "cell_type": "code",
      "metadata": {
        "id": "Dl-qlh0NxsSW"
      },
      "source": [
        "# サンプルを2次元平面にプロットするための便利関数を作る\n",
        "def plot_2D(X, y, file_name=None):\n",
        "    plt.figure()\n",
        "    ax = plt.subplot(111)\n",
        "    plt.scatter(X[:, 0], X[:, 1], c=y, cmap='jet')\n",
        "    plt.colorbar()\n",
        "    #ax.set_aspect('equal')\n",
        "    if file_name:\n",
        "        plt.savefig(file_name)\n",
        "        plt.close()\n",
        "\n",
        "# しかし、64次元のデータをどうやって、2次元へ・・・？"
      ],
      "execution_count": null,
      "outputs": []
    },
    {
      "cell_type": "code",
      "metadata": {
        "id": "747P9YSPxsSZ"
      },
      "source": [
        "# ここで使われるのが次元削減の手法\n",
        "# まずはもっとも古典的なPCA（主成分分析）から\n",
        "from sklearn.decomposition import PCA\n",
        "# 2次元データを出力するPCAのインスタンスを用意\n",
        "pca = PCA(n_components=2)\n",
        "# digits_data['data']でもOK\n",
        "digits_pca = pca.fit_transform(digits_df)\n",
        "# digits_data['target']に正解（0〜9までの数字）が入っているので色が付く\n",
        "plot_2D(digits_pca, digits_data['target'])"
      ],
      "execution_count": null,
      "outputs": []
    },
    {
      "cell_type": "code",
      "metadata": {
        "id": "iyQJ1XVpxsSb"
      },
      "source": [
        "# 次元削減にはいろいろな方法がある\n",
        "# 最近は、ｔ−SNE（t-distributed Stochastic Neighbor Embedding）がよく使われる\n",
        "from sklearn.manifold import TSNE\n",
        "tsne = TSNE(n_components=2)\n",
        "digits_tsne = tsne.fit_transform(digits_df)\n",
        "plot_2D(digits_tsne, digits_data['target'])"
      ],
      "execution_count": null,
      "outputs": []
    },
    {
      "cell_type": "markdown",
      "metadata": {
        "id": "4L8q1CYsxsSe"
      },
      "source": [
        "次元削減を実行するときのパラメータが手法ごとにいろいろある\n",
        "\n",
        "perplexityfloat, optional (default: 30)\n",
        "\n",
        "The perplexity is related to the number of nearest neighbors that is used in other manifold learning algorithms. Larger datasets usually require a larger perplexity. Consider selecting a value between 5 and 50. Different values can result in significanlty different results."
      ]
    },
    {
      "cell_type": "code",
      "metadata": {
        "id": "XrNUXHXUxsSf"
      },
      "source": [
        "from sklearn.manifold import TSNE\n",
        "tsne = TSNE(n_components=2, perplexity=10)\n",
        "digits_tsne = tsne.fit_transform(digits_df)\n",
        "plot_2D(digits_tsne, digits_data['target'])\n",
        "\n",
        "# 試してみよう\n",
        "# perplexityを適当に設定してみよう\n",
        "# 同じパラメータ設定でも違う結果がでます。どうしたら固定できるでしょうか？"
      ],
      "execution_count": null,
      "outputs": []
    },
    {
      "cell_type": "code",
      "metadata": {
        "id": "mUN2FdHOxsSi"
      },
      "source": [
        "from sklearn.manifold import TSNE\n",
        "# random_stateを固定することで、結果を再現できる\n",
        "# 詳しくは、t-SNEの中身を知る必要がある\n",
        "tsne = TSNE(n_components=2, perplexity=30, random_state=0)\n",
        "digits_tsne = tsne.fit_transform(digits_df)\n",
        "plot_2D(digits_tsne, digits_data['target'])"
      ],
      "execution_count": null,
      "outputs": []
    },
    {
      "cell_type": "code",
      "metadata": {
        "id": "q-wwcgh-xsSm"
      },
      "source": [
        "# scikit-learnのサイトからK-meansクラスタリングのイメージ\n",
        "from IPython.core.display import Image, display\n",
        "display(Image(\"https://scikit-learn.org/stable/_images/sphx_glr_plot_kmeans_digits_001.png\"))"
      ],
      "execution_count": null,
      "outputs": []
    },
    {
      "cell_type": "code",
      "metadata": {
        "id": "lZXsg0d8xsSp"
      },
      "source": [
        "from sklearn.cluster import KMeans\n",
        "# 入力データを10クラスに分ける\n",
        "kmeans = KMeans(n_clusters=10, random_state=0)\n",
        "kmeans.fit(digits_df)\n",
        "# サンプルが属するクラスター\n",
        "kmeans.labels_"
      ],
      "execution_count": null,
      "outputs": []
    },
    {
      "cell_type": "code",
      "metadata": {
        "id": "NWmAlDTAxsSs"
      },
      "source": [
        "from sklearn.metrics import silhouette_score\n",
        "\n",
        "for n_cluster in range(5, 16):\n",
        "    clusterer = KMeans(n_clusters=n_cluster, random_state=10)\n",
        "    cluster_labels = clusterer.fit_predict(digits_df)\n",
        "    silhouette_avg = silhouette_score(digits_df, cluster_labels)\n",
        "    print(\"For n_clusters =\", n_cluster,\n",
        "          \"The average silhouette_score is :\", silhouette_avg)\n",
        "\n",
        "# 詳しくは\n",
        "# https://scikit-learn.org/stable/auto_examples/cluster/plot_kmeans_silhouette_analysis.html#sphx-glr-auto-examples-cluster-plot-kmeans-silhouette-analysis-py"
      ],
      "execution_count": null,
      "outputs": []
    },
    {
      "cell_type": "code",
      "metadata": {
        "id": "myovW9mJxsSu"
      },
      "source": [
        "# パラメータにクラス数を指定しなくてもよいクラスタリング手法もある\n",
        "from sklearn.cluster import AffinityPropagation\n",
        "# random_stateの設定は、バージョン0．23から\n",
        "clustering = AffinityPropagation().fit(digits_df)\n",
        "# 何クラスに分かれたか？\n",
        "len(set(clustering.labels_))"
      ],
      "execution_count": null,
      "outputs": []
    },
    {
      "cell_type": "code",
      "metadata": {
        "id": "B-XF659CxsSx"
      },
      "source": [
        "import seaborn as sns\n",
        "sns.clustermap(digits_df)"
      ],
      "execution_count": null,
      "outputs": []
    },
    {
      "cell_type": "code",
      "metadata": {
        "id": "JUKycOCPxsS0"
      },
      "source": [
        "# 説明変数の分散のヒストグラム\n",
        "plt.hist(digits_df.std())"
      ],
      "execution_count": null,
      "outputs": []
    },
    {
      "cell_type": "code",
      "metadata": {
        "id": "63D5Qz90xsS3"
      },
      "source": [
        "# 前処理の一例\n",
        "# 分散が小さい（サンプル間でほとんどばらつきがない）説明変数を削除\n",
        "idx = digits_df.std() > 2\n",
        "filtered = digits_df[digits_df.columns[idx]]\n",
        "\n",
        "sns.clustermap(filtered)\n",
        "\n",
        "# 試してみよう\n",
        "# 分散での前処理を調整して、いくつか階層的クラスタリングの図を描いてみよう"
      ],
      "execution_count": null,
      "outputs": []
    },
    {
      "cell_type": "code",
      "metadata": {
        "id": "CcI2yuqNxsS8"
      },
      "source": [
        ""
      ],
      "execution_count": null,
      "outputs": []
    },
    {
      "cell_type": "code",
      "metadata": {
        "id": "e_nPPGaVxsS_"
      },
      "source": [
        "from sklearn.datasets import load_boston\n",
        "boston_data = load_boston()"
      ],
      "execution_count": null,
      "outputs": []
    },
    {
      "cell_type": "code",
      "metadata": {
        "id": "-i-ySLthxsTC"
      },
      "source": [
        "print(boston_data.DESCR)"
      ],
      "execution_count": null,
      "outputs": []
    },
    {
      "cell_type": "code",
      "metadata": {
        "id": "f9lT7fnCxsTE"
      },
      "source": [
        "# 住宅の価格（＄1，000）\n",
        "y = boston_data['target']\n",
        "# 説明変数を準備\n",
        "X = boston_data['data']"
      ],
      "execution_count": null,
      "outputs": []
    },
    {
      "cell_type": "code",
      "metadata": {
        "id": "QwQTLTqpxsTH"
      },
      "source": [
        "# DataFrameを作ります。\n",
        "boston_df = pd.DataFrame(boston_data.data)\n",
        "# 列名をつけます。\n",
        "boston_df.columns = boston_data.feature_names\n",
        "# 便利のために、価格列を追加します。\n",
        "boston_df['PRICE'] = y\n",
        "boston_df.head()"
      ],
      "execution_count": null,
      "outputs": []
    },
    {
      "cell_type": "code",
      "metadata": {
        "id": "I_PWYOBLxsTL"
      },
      "source": [
        "# 横軸に部屋数、縦軸に価格\n",
        "boston_df.plot.scatter('RM', 'PRICE')\n",
        "\n",
        "# 試してみよう\n",
        "# X軸を変更してみてください。以下が比較的意味をとりやすいかも。\n",
        "# 犯罪率　CRIM\n",
        "# 窒素酸化物濃度 NOX\n",
        "# 生徒と先生の費　PTRATIO"
      ],
      "execution_count": null,
      "outputs": []
    },
    {
      "cell_type": "code",
      "metadata": {
        "id": "TVsTxDXPxsTO"
      },
      "source": [
        "# seabornを使うと簡単に回帰直線を描けます\n",
        "sns.lmplot('RM', 'PRICE', data = boston_df)"
      ],
      "execution_count": null,
      "outputs": []
    },
    {
      "cell_type": "code",
      "metadata": {
        "id": "128eQZ0BxsTR"
      },
      "source": [
        "# 便宜的に、訓練データと、目的変数を知らないことにするテストデータに分ける\n",
        "from sklearn.model_selection import train_test_split\n",
        "X_train, X_test, y_train, y_test = train_test_split(X, y, test_size=0.33, random_state=42)"
      ],
      "execution_count": null,
      "outputs": []
    },
    {
      "cell_type": "code",
      "metadata": {
        "id": "OzAIVh1vxsTT"
      },
      "source": [
        "# 全部で506サンプルあったが、訓練用とテスト用に分けられた。\n",
        "print(X_train.shape, X_test.shape)"
      ],
      "execution_count": null,
      "outputs": []
    },
    {
      "cell_type": "code",
      "metadata": {
        "id": "MkGNsYAsxsTW"
      },
      "source": [
        "# 線形重回帰を使ったモデルを作る\n",
        "from sklearn.linear_model import LinearRegression\n",
        "# インスタンスを作って、訓練データからモデルを作成\n",
        "reg = LinearRegression().fit(X_train, y_train)"
      ],
      "execution_count": null,
      "outputs": []
    },
    {
      "cell_type": "code",
      "metadata": {
        "id": "zVa4h_rCxsTa"
      },
      "source": [
        "# 線形重回帰なので、各変数の係数がわかる\n",
        "print(reg.coef_)\n",
        "print(reg.intercept_)"
      ],
      "execution_count": null,
      "outputs": []
    },
    {
      "cell_type": "code",
      "metadata": {
        "id": "u25Ryrn1xsTc"
      },
      "source": [
        "#　予測と当てはまりの良さを計算\n",
        "from sklearn.metrics import mean_squared_error, r2_score\n",
        "\n",
        "# 未知のサンプルの価格を予測\n",
        "y_pred = reg.predict(X_test)\n",
        "# The mean squared error\n",
        "print('平均2乗誤差: ', mean_squared_error(y_test, y_pred))\n",
        "# The coefficient of determination: 1 is perfect prediction\n",
        "print('決定係数: ', r2_score(y_test, y_pred))"
      ],
      "execution_count": null,
      "outputs": []
    },
    {
      "cell_type": "code",
      "metadata": {
        "id": "eBHrrFDbxsTf"
      },
      "source": [
        "# 正解データと予測結果を図示\n",
        "plt.scatter(y_test, y_pred)\n",
        "plt.xlabel('test')\n",
        "plt.ylabel('pred')"
      ],
      "execution_count": null,
      "outputs": []
    },
    {
      "cell_type": "code",
      "metadata": {
        "id": "DQm99SrYxsTi"
      },
      "source": [
        "from sklearn.ensemble import RandomForestRegressor\n",
        "\n",
        "rf_reg = RandomForestRegressor(n_estimators=10, max_depth=3, random_state=0)\n",
        "rf_reg.fit(X_train, y_train)"
      ],
      "execution_count": null,
      "outputs": []
    },
    {
      "cell_type": "code",
      "metadata": {
        "id": "PyQlW-ONxsTl"
      },
      "source": [
        "rf_reg_pred = rf_reg.predict(X_test)\n",
        "\n",
        "print('平均2乗誤差: ', mean_squared_error(y_test, rf_reg_pred))\n",
        "print('決定係数: ', r2_score(y_test, rf_reg_pred))\n",
        "\n",
        "# 試してみよう\n",
        "# n_estimatorsやmax_depthを変更するとどうなるでしょう？"
      ],
      "execution_count": null,
      "outputs": []
    },
    {
      "cell_type": "code",
      "metadata": {
        "id": "45y9ZriQxsTn"
      },
      "source": [
        "from sklearn.model_selection import GridSearchCV\n",
        "\n",
        "parameters = {'n_estimators':[50, 100, 200], 'max_depth': [2, 4, 8, 16]}\n",
        "rf_reg = RandomForestRegressor()\n",
        "clf = GridSearchCV(rf_reg, parameters)\n",
        "_ = clf.fit(X_train, y_train)"
      ],
      "execution_count": null,
      "outputs": []
    },
    {
      "cell_type": "code",
      "metadata": {
        "id": "GYZ6V8EIxsTr"
      },
      "source": [
        "# 最も性能がよいモデルで予測\n",
        "rf_reg_pred = clf.best_estimator_.predict(X_test)\n",
        "\n",
        "print('平均2乗誤差: ', mean_squared_error(y_test, rf_reg_pred))\n",
        "print('決定係数: ', r2_score(y_test, rf_reg_pred))"
      ],
      "execution_count": null,
      "outputs": []
    },
    {
      "cell_type": "code",
      "metadata": {
        "id": "ykdHD8rgxsTt"
      },
      "source": [
        "# 使われたパラメータを表示\n",
        "clf.best_estimator_.get_params"
      ],
      "execution_count": null,
      "outputs": []
    },
    {
      "cell_type": "code",
      "metadata": {
        "id": "vEiCv_4lxsTw"
      },
      "source": [
        "# 勾配ブースティングという方法が性能が良いので最近はよく使われている。\n",
        "from sklearn.ensemble import GradientBoostingRegressor\n",
        "\n",
        "gbr = GradientBoostingRegressor().fit(X_train, y_train)\n",
        "\n",
        "gbr_pred = gbr.predict(X_test)\n",
        "print('平均2乗誤差: ', mean_squared_error(y_test, gbr_pred))\n",
        "print('決定係数: ', r2_score(y_test, gbr_pred))"
      ],
      "execution_count": null,
      "outputs": []
    },
    {
      "cell_type": "code",
      "metadata": {
        "id": "57UJmOh9xsTy"
      },
      "source": [
        ""
      ],
      "execution_count": null,
      "outputs": []
    },
    {
      "cell_type": "code",
      "metadata": {
        "id": "EfEeY_uQxsT2"
      },
      "source": [
        "# ワインサンプルデータの準備\n",
        "from sklearn.datasets import load_wine\n",
        "wine_data = load_wine()"
      ],
      "execution_count": null,
      "outputs": []
    },
    {
      "cell_type": "code",
      "metadata": {
        "id": "7TZItFG-xsT5"
      },
      "source": [
        "# データの説明\n",
        "print(wine_data.DESCR)"
      ],
      "execution_count": null,
      "outputs": []
    },
    {
      "cell_type": "code",
      "metadata": {
        "id": "7eRlHFDUxsT8"
      },
      "source": [
        "#　分類わけは数字で入っている\n",
        "wine_data['target']"
      ],
      "execution_count": null,
      "outputs": []
    },
    {
      "cell_type": "code",
      "metadata": {
        "id": "yQPx0mR2xsT-"
      },
      "source": [
        "# PCAで2次元に落としこむ\n",
        "pca = PCA(n_components=2)\n",
        "wine_pca = pca.fit_transform(wine_data['data'])\n",
        "plot_2D(wine_pca, wine_data['target'])"
      ],
      "execution_count": null,
      "outputs": []
    },
    {
      "cell_type": "code",
      "metadata": {
        "id": "WYsNRKnnxsUC"
      },
      "source": [
        "# データの正規化（規格化）\n",
        "# 変数ごとに平均を引いて標準偏差で割るという処理をする。\n",
        "from sklearn.preprocessing import StandardScaler\n",
        "ss = StandardScaler()\n",
        "ss_data = ss.fit_transform(wine_data['data'])\n",
        "# PCAで2次元へ\n",
        "pca = PCA(n_components=2)\n",
        "ss_pca = pca.fit_transform(ss_data)\n",
        "plot_2D(ss_pca, wine_data['target'])"
      ],
      "execution_count": null,
      "outputs": []
    },
    {
      "cell_type": "code",
      "metadata": {
        "id": "gKhcTyjZxsUE"
      },
      "source": [
        "# 2クラスの分類とROCによる評価\n",
        "\n",
        "# SVM(support vector machine)を準備\n",
        "from sklearn.svm import SVC\n",
        "# ついでにRandom Forestsも準備\n",
        "from sklearn.ensemble import RandomForestClassifier\n",
        "from sklearn.metrics import plot_roc_curve\n",
        "\n",
        "X = wine_data['data']\n",
        "# 0と1を0に、2を1に変換\n",
        "y = wine_data['target'].copy()\n",
        "y[y == 1] = 0\n",
        "y[y == 2] = 1"
      ],
      "execution_count": null,
      "outputs": []
    },
    {
      "cell_type": "code",
      "metadata": {
        "id": "_zU3G75sxsUJ"
      },
      "source": [
        "X_train, X_test, y_train, y_test = train_test_split(X, y, random_state=42)\n",
        "svc = SVC(random_state=42)\n",
        "svc.fit(X_train, y_train)"
      ],
      "execution_count": null,
      "outputs": []
    },
    {
      "cell_type": "code",
      "metadata": {
        "id": "D5OJReO3xsUM"
      },
      "source": [
        "# 作ったモデルで予測\n",
        "svc_pred = svc.predict(X_test)"
      ],
      "execution_count": null,
      "outputs": []
    },
    {
      "cell_type": "code",
      "metadata": {
        "id": "BP6qJ-QIxsUO"
      },
      "source": [
        "# 全部0になってしまっている\n",
        "svc_pred"
      ],
      "execution_count": null,
      "outputs": []
    },
    {
      "cell_type": "code",
      "metadata": {
        "id": "fUnmM3F3xsUQ"
      },
      "source": [
        "# ほんとは1のサンプルもある\n",
        "y_test"
      ],
      "execution_count": null,
      "outputs": []
    },
    {
      "cell_type": "code",
      "metadata": {
        "id": "ydwmPRUGxsUT"
      },
      "source": [
        "# より詳しい結果を計算できる\n",
        "from sklearn.metrics import classification_report\n",
        "\n",
        "print(classification_report(y_test , svc_pred))"
      ],
      "execution_count": null,
      "outputs": []
    },
    {
      "cell_type": "code",
      "metadata": {
        "id": "1vh0Z0n3xsUX"
      },
      "source": [
        "# サンプルごとに予測の自信度は異なる\n",
        "svc.decision_function(X_test)"
      ],
      "execution_count": null,
      "outputs": []
    },
    {
      "cell_type": "code",
      "metadata": {
        "id": "EIsBDpqkxsUb"
      },
      "source": [
        "# 受信者操作特性 Receiver operating characteristic \n",
        "svc_disp = plot_roc_curve(svc, X_test, y_test)\n",
        "plt.show()"
      ],
      "execution_count": null,
      "outputs": []
    },
    {
      "cell_type": "code",
      "metadata": {
        "id": "yMgRrNIAxsUd"
      },
      "source": [
        "# RandomForestsを使ってみる\n",
        "# 直前に作ったSVMのROCに追加するためのコードが入っているので、ちょっとわかりにくい\n",
        "rfc = RandomForestClassifier(n_estimators=10, random_state=42)\n",
        "rfc.fit(X_train, y_train)\n",
        "ax = plt.gca()\n",
        "rfc_disp = plot_roc_curve(rfc, X_test, y_test, ax=ax, alpha=0.8)\n",
        "svc_disp.plot(ax=ax, alpha=0.8)\n",
        "plt.show()"
      ],
      "execution_count": null,
      "outputs": []
    },
    {
      "cell_type": "code",
      "metadata": {
        "id": "frj2XLVpxsUf"
      },
      "source": [
        "# もともとの3クラスの分類\n",
        "# もう一度ｙを代入しなおす\n",
        "y = wine_data['target'].copy()\n",
        "# 訓練用とテスト用に分ける\n",
        "X_train, X_test, y_train, y_test = train_test_split(X, y, random_state=42)"
      ],
      "execution_count": null,
      "outputs": []
    },
    {
      "cell_type": "code",
      "metadata": {
        "id": "nv1izLbVxsUi"
      },
      "source": [
        "# SVMは2クラス用だが、マルチクラスにもそのまま使える\n",
        "svc = SVC(random_state=42)\n",
        "svc.fit(X_train, y_train)\n",
        "svc_pred = svc.predict(X_test)\n",
        "svc_pred"
      ],
      "execution_count": null,
      "outputs": []
    },
    {
      "cell_type": "code",
      "metadata": {
        "id": "KUu2Va77xsUk"
      },
      "source": [
        "print(classification_report(y_test , svc_pred))"
      ],
      "execution_count": null,
      "outputs": []
    },
    {
      "cell_type": "code",
      "metadata": {
        "id": "yo_LIcNYxsUo"
      },
      "source": [
        "# 混合行列を使った可視化\n",
        "from sklearn.metrics import confusion_matrix\n",
        "conf_mat = confusion_matrix(y_test, svc_pred)\n",
        "conf_mat"
      ],
      "execution_count": null,
      "outputs": []
    },
    {
      "cell_type": "code",
      "metadata": {
        "id": "set2b8BwxsUr"
      },
      "source": [
        "# 行方向が正解、列方向が予測\n",
        "#　クラス1のrecall（再現率）は、\n",
        "print(13/(13+5))\n",
        "# クラス1のpredision（適合率）は\n",
        "print(13/(13+8))\n",
        "# 全体のaccuracy（正解率）は、\n",
        "print((15+13+4)/45)"
      ],
      "execution_count": null,
      "outputs": []
    },
    {
      "cell_type": "code",
      "metadata": {
        "id": "inpDW-DVxsUt"
      },
      "source": [
        "# ヒートマップを使った可視化がわかりやすい\n",
        "sns.heatmap(conf_mat, annot=True)"
      ],
      "execution_count": null,
      "outputs": []
    },
    {
      "cell_type": "code",
      "metadata": {
        "id": "z6dNHYOqxsUv"
      },
      "source": [
        "# RandomForestsがいい\n",
        "rfc = RandomForestClassifier(n_estimators=10, random_state=42)\n",
        "rfc.fit(X_train, y_train)\n",
        "rfc_pred = rfc.predict(X_test)\n",
        "print(classification_report(y_test , rfc_pred))"
      ],
      "execution_count": null,
      "outputs": []
    },
    {
      "cell_type": "code",
      "metadata": {
        "id": "EBBWYgcvxsUx"
      },
      "source": [
        "# どの変数が分類に効いているかがわかる。\n",
        "fi = rfc.feature_importances_\n",
        "# ただの棒グラフを描くのがちょっと面倒だったりする・・・。\n",
        "plt.bar(range(len(fi)), fi, tick_label=wine_data['feature_names'])\n",
        "plt.xticks(rotation=90)\n",
        "\n",
        "# やってみよう\n",
        "# 1つ前のセルで作ったRandomForestsのインスタンスで、random_stateの数字を変えると、feature importanceがどうなるか試してみてください。"
      ],
      "execution_count": null,
      "outputs": []
    },
    {
      "cell_type": "code",
      "metadata": {
        "id": "wsvc8fO-xsUz"
      },
      "source": [
        "# 卒業試験\n",
        "# 以下のGradientBoostingClassifierを使って、予測モデルを作り、その精度を計算してください。feature importanceの棒グラフも描いてください。\n",
        "from sklearn.ensemble import GradientBoostingClassifier"
      ],
      "execution_count": null,
      "outputs": []
    },
    {
      "cell_type": "markdown",
      "metadata": {
        "id": "1mUr4TL5xsU2"
      },
      "source": [
        "## Appendix\n",
        "\n",
        "[決定係数の説明(Wikipedia)](https://ja.wikipedia.org/wiki/%E6%B1%BA%E5%AE%9A%E4%BF%82%E6%95%B0)\n",
        "\n",
        "[ROCの説明(Wikipedia)](https://ja.wikipedia.org/wiki/%E5%8F%97%E4%BF%A1%E8%80%85%E6%93%8D%E4%BD%9C%E7%89%B9%E6%80%A7)\n",
        "\n",
        "[決定木、RandomForests、勾配ブースティングのわかりやすいページ](https://www.codexa.net/lightgbm-beginner/)"
      ]
    }
  ]
}